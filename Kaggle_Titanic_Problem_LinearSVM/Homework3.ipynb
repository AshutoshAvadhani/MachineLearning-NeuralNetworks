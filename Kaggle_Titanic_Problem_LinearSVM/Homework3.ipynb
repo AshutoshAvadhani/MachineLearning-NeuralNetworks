{
 "cells": [
  {
   "cell_type": "code",
   "execution_count": 28,
   "source": [
    "import numpy as np\r\n",
    "import pandas as pd\r\n",
    "import os\r\n",
    "\r\n",
    "\r\n",
    "from sklearn.model_selection import KFold\r\n",
    "from sklearn.metrics import accuracy_score\r\n",
    "from sklearn import svm\r\n",
    "from sklearn.model_selection import cross_val_score\r\n",
    "\r\n",
    "read_training_data = pd.read_csv(\"train.csv\")\r\n",
    "\r\n",
    "#Start with pre-processing\r\n",
    "\r\n",
    "#drop the columns which will be not required for decision tree.\r\n",
    "read_training_data = read_training_data.drop(columns=['Embarked','Cabin','Fare','Ticket'])\r\n",
    "#converted the gender column from male/female to 0/1\r\n",
    "read_training_data['Sex'] = read_training_data.Sex.map({'male':0,'female':1})\r\n",
    "#Interpolate the data for age. Since dropping\r\n",
    "read_training_data[\"Age\"] = read_training_data[\"Age\"].interpolate()\r\n",
    "\r\n",
    "\r\n",
    "\r\n",
    "#set the output column\r\n",
    "y = read_training_data[\"Survived\"]\r\n",
    "\r\n",
    "#set the features for training\r\n",
    "features = [\"Age\", \"Sex\", \"SibSp\", \"Parch\"]\r\n",
    "\r\n",
    "X = pd.get_dummies(read_training_data[features])\r\n",
    "\r\n",
    "clf_linear = svm.SVC(kernel='linear')\r\n",
    "clf_linear.fit(X,y)\r\n",
    "\r\n",
    "score_linear_Kernel = cross_val_score(clf_linear, X, y, cv=5)\r\n",
    "# print(\"The Validation for Linear Kernel type is --> \" + str(sum(score_linear_Kernel)/len(score_linear_Kernel)*100))\r\n",
    "print(\"The Validation for Linear Kernel type is --> \" + \"{:.0%}\".format(sum(score_linear_Kernel)/len(score_linear_Kernel)))\r\n",
    "\r\n",
    "clf_RBF = svm.SVC(kernel='rbf')\r\n",
    "clf_RBF.fit(X,y)\r\n",
    "\r\n",
    "score_RBF_Kernel = cross_val_score(clf_RBF, X, y, cv=5)\r\n",
    "# print(\"The Validation for RBF Kernel type is --> \" + str(sum(score_RBF_Kernel)/len(score_RBF_Kernel)*100))\r\n",
    "print(\"The Validation for RBF Kernel type is --> \" + \"{:.0%}\".format(sum(score_RBF_Kernel)/len(score_RBF_Kernel)))\r\n",
    "\r\n",
    "\r\n",
    "\r\n",
    "clf_poly = svm.SVC(kernel='poly', degree=3)\r\n",
    "clf_poly.fit(X,y)\r\n",
    "\r\n",
    "score_poly_Kernel = cross_val_score(clf_poly, X, y, cv=5)\r\n",
    "print(\"The Validation for Quadratic Kernel type is --> \" + \"{:.0%}\".format(sum(score_poly_Kernel)/len(score_poly_Kernel)))\r\n",
    "\r\n",
    "\r\n",
    "\r\n",
    "\r\n",
    "\r\n",
    "\r\n",
    "\r\n",
    "\r\n",
    "\r\n",
    "\r\n",
    "\r\n",
    "\r\n"
   ],
   "outputs": [
    {
     "output_type": "stream",
     "name": "stdout",
     "text": [
      "PassengerId - 0\n",
      "Survived - 0\n",
      "Pclass - 0\n",
      "Name - 0\n",
      "Sex - 0\n",
      "Age - 0\n",
      "SibSp - 0\n",
      "Parch - 0\n",
      "The Validation for Linear Kernel type is --> 79%\n",
      "The Validation for RBF Kernel type is --> 64%\n",
      "The Validation for Quadratic Kernel type is --> 66%\n"
     ]
    }
   ],
   "metadata": {}
  }
 ],
 "metadata": {
  "orig_nbformat": 4,
  "language_info": {
   "name": "python",
   "version": "3.8.11",
   "mimetype": "text/x-python",
   "codemirror_mode": {
    "name": "ipython",
    "version": 3
   },
   "pygments_lexer": "ipython3",
   "nbconvert_exporter": "python",
   "file_extension": ".py"
  },
  "kernelspec": {
   "name": "python3",
   "display_name": "Python 3.8.11 64-bit ('myenv': conda)"
  },
  "interpreter": {
   "hash": "112809107b2403d371f27c212920e02c36b4c739d02508f933723284b1e57b3a"
  }
 },
 "nbformat": 4,
 "nbformat_minor": 2
}