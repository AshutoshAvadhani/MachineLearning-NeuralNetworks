{
 "cells": [
  {
   "cell_type": "code",
   "execution_count": 76,
   "source": [
    "import numpy as np\r\n",
    "import pandas as pd\r\n",
    "import os\r\n",
    "\r\n",
    "from sklearn.ensemble import RandomForestClassifier\r\n",
    "from sklearn.tree import DecisionTreeClassifier\r\n",
    "from sklearn import tree\r\n",
    "from sklearn.model_selection import KFold\r\n",
    "from sklearn.metrics import accuracy_score\r\n",
    "from sklearn.model_selection import train_test_split\r\n",
    "\r\n",
    "from sklearn.model_selection import cross_val_score\r\n",
    "\r\n",
    "\r\n",
    "#Read the data into a variable\r\n",
    "read_training_data = pd.read_csv(\"train.csv\")\r\n",
    "\r\n",
    "\r\n",
    "\r\n",
    "#Start with pre-processing\r\n",
    "\r\n",
    "#drop the columns which will be not required for decision tree.\r\n",
    "read_training_data = read_training_data.drop(columns=['Embarked','Cabin','Fare','Ticket'])\r\n",
    "\r\n",
    "#converted the gender column from male/female to 0/1\r\n",
    "read_training_data['Sex'] = read_training_data.Sex.map({'male':0,'female':1})\r\n",
    "\r\n",
    "#Interpolate the data for age. Since dropping\r\n",
    "read_training_data[\"Age\"] = read_training_data[\"Age\"].interpolate()\r\n",
    "\r\n",
    "print(read_training_data)\r\n",
    "\r\n",
    "#check whether there are any more of null or blank data.\r\n",
    "columnnames = read_training_data.columns\r\n",
    "for col in columnnames:\r\n",
    "    print(col +' - '+ str(read_training_data[col].isnull().sum()))\r\n",
    "\r\n",
    "\r\n",
    "\r\n",
    "\r\n",
    "#set the output column\r\n",
    "y = read_training_data[\"Survived\"]\r\n",
    "\r\n",
    "#set the features for training\r\n",
    "features = [\"Age\", \"Sex\", \"SibSp\", \"Parch\",\"Pclass\"]\r\n",
    "\r\n",
    "X = pd.get_dummies(read_training_data[features])\r\n",
    "\r\n",
    "\r\n",
    "\r\n",
    "\r\n",
    "#split the data for training and test purposes.\r\n",
    "X_train, X_test, y_train, y_test = train_test_split(X, y, test_size=0.3, random_state=0)\r\n",
    "\r\n",
    "\r\n",
    "#classify the data and traing the tree using the decision tree algorithm.\r\n",
    "model_tree = DecisionTreeClassifier(\"gini\",\"best\",5)\r\n",
    "model_tree.fit(X_train,y_train)\r\n",
    "#accuracy_score(y)\r\n",
    "\r\n",
    "#plot the tree\r\n",
    "tree.plot_tree(model_tree)\r\n",
    "\r\n",
    "#calculate the cross validation score of the tree.\r\n",
    "score_DecisionTree = cross_val_score(model_tree, X, y, cv=5, scoring='f1_macro')\r\n",
    "print(sum(score_DecisionTree)/len(score_DecisionTree))\r\n",
    "\r\n",
    "# for downloading the tree structure.\r\n",
    "from sklearn.tree import export_graphviz\r\n",
    "export_graphviz(model_tree,'Dtree.dot',feature_names = list(X.columns))\r\n",
    "! dot -Tpng Dtree.dot -o Dtree.png\r\n",
    "\r\n",
    "\r\n",
    "#start with training and fiting the random forest classifier \r\n",
    "model = RandomForestClassifier(n_estimators=100, max_depth=5, random_state=5)\r\n",
    "model.fit(X, y)\r\n",
    "\r\n",
    "#calculate the cross validation score for random forest\r\n",
    "score_randomForest = cross_val_score(model, X, y, cv=5, scoring='f1_macro')\r\n",
    "\r\n",
    "print(sum(score_randomForest)/len(score_randomForest))\r\n",
    "\r\n",
    "\r\n",
    "\r\n",
    "\r\n",
    "\r\n",
    "\r\n"
   ],
   "outputs": [
    {
     "output_type": "stream",
     "name": "stdout",
     "text": [
      "     PassengerId  Survived  Pclass  \\\n",
      "0              1         0       3   \n",
      "1              2         1       1   \n",
      "2              3         1       3   \n",
      "3              4         1       1   \n",
      "4              5         0       3   \n",
      "..           ...       ...     ...   \n",
      "886          887         0       2   \n",
      "887          888         1       1   \n",
      "888          889         0       3   \n",
      "889          890         1       1   \n",
      "890          891         0       3   \n",
      "\n",
      "                                                  Name  Sex   Age  SibSp  \\\n",
      "0                              Braund, Mr. Owen Harris    0  22.0      1   \n",
      "1    Cumings, Mrs. John Bradley (Florence Briggs Th...    1  38.0      1   \n",
      "2                               Heikkinen, Miss. Laina    1  26.0      0   \n",
      "3         Futrelle, Mrs. Jacques Heath (Lily May Peel)    1  35.0      1   \n",
      "4                             Allen, Mr. William Henry    0  35.0      0   \n",
      "..                                                 ...  ...   ...    ...   \n",
      "886                              Montvila, Rev. Juozas    0  27.0      0   \n",
      "887                       Graham, Miss. Margaret Edith    1  19.0      0   \n",
      "888           Johnston, Miss. Catherine Helen \"Carrie\"    1  22.5      1   \n",
      "889                              Behr, Mr. Karl Howell    0  26.0      0   \n",
      "890                                Dooley, Mr. Patrick    0  32.0      0   \n",
      "\n",
      "     Parch  \n",
      "0        0  \n",
      "1        0  \n",
      "2        0  \n",
      "3        0  \n",
      "4        0  \n",
      "..     ...  \n",
      "886      0  \n",
      "887      0  \n",
      "888      2  \n",
      "889      0  \n",
      "890      0  \n",
      "\n",
      "[891 rows x 8 columns]\n",
      "PassengerId - 0\n",
      "Survived - 0\n",
      "Pclass - 0\n",
      "Name - 0\n",
      "Sex - 0\n",
      "Age - 0\n",
      "SibSp - 0\n",
      "Parch - 0\n",
      "0.7652571566844999\n"
     ]
    },
    {
     "output_type": "stream",
     "name": "stderr",
     "text": [
      "C:\\Users\\ava24\\anaconda3\\envs\\myenv\\lib\\site-packages\\sklearn\\utils\\validation.py:70: FutureWarning: Pass criterion=gini, splitter=best, max_depth=5 as keyword args. From version 1.0 (renaming of 0.25) passing these as positional arguments will result in an error\n",
      "  warnings.warn(f\"Pass {args_msg} as keyword args. From version \"\n",
      "'dot' is not recognized as an internal or external command,\n",
      "operable program or batch file.\n"
     ]
    },
    {
     "output_type": "stream",
     "name": "stdout",
     "text": [
      "0.8039115323616949\n"
     ]
    },
    {
     "output_type": "display_data",
     "data": {
      "image/png": "[encoded data removed]",
      "text/plain": [
       "<Figure size 432x288 with 1 Axes>"
      ]
     },
     "metadata": {
      "needs_background": "light"
     }
    }
   ],
   "metadata": {}
  },
  {
   "cell_type": "code",
   "execution_count": null,
   "source": [],
   "outputs": [],
   "metadata": {}
  }
 ],
 "metadata": {
  "orig_nbformat": 4,
  "language_info": {
   "name": "python",
   "version": "3.8.11",
   "mimetype": "text/x-python",
   "codemirror_mode": {
    "name": "ipython",
    "version": 3
   },
   "pygments_lexer": "ipython3",
   "nbconvert_exporter": "python",
   "file_extension": ".py"
  },
  "kernelspec": {
   "name": "python3",
   "display_name": "Python 3.8.11 64-bit ('myenv': conda)"
  },
  "interpreter": {
   "hash": "112809107b2403d371f27c212920e02c36b4c739d02508f933723284b1e57b3a"
  }
 },
 "nbformat": 4,
 "nbformat_minor": 2
}