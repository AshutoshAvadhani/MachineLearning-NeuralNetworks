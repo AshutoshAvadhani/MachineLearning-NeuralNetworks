{
 "cells": [
  {
   "cell_type": "code",
   "execution_count": null,
   "metadata": {},
   "outputs": [],
   "source": [
    "import numpy as np\n",
    "import matplotlib.pyplot as plt\n",
    "import pandas as pd\n",
    "%matplotlib inline"
   ]
  },
  {
   "cell_type": "code",
   "execution_count": null,
   "metadata": {},
   "outputs": [],
   "source": [
    "#read data in csv\n",
    "data = pd.read_csv('mnist_train.csv')"
   ]
  },
  {
   "cell_type": "code",
   "execution_count": null,
   "metadata": {},
   "outputs": [],
   "source": [
    "training_data = np.array(data)\n",
    "m,n = training_data.shape\n",
    "print(m,n)"
   ]
  },
  {
   "cell_type": "code",
   "execution_count": null,
   "metadata": {},
   "outputs": [],
   "source": [
    "np.random.shuffle(training_data)"
   ]
  },
  {
   "cell_type": "code",
   "execution_count": null,
   "metadata": {},
   "outputs": [],
   "source": [
    "#Train Test Split\n",
    "data_Val = training_data[0:9000].T\n",
    "Y_Val = data_Val[0]\n",
    "X_Val = data_Val[1:]\n",
    "'''X_dev = X_dev / 255.'''\n",
    "\n",
    "Test_data = training_data[9000:18000].T\n",
    "Y_test = Test_data[0]\n",
    "X_test = Test_data[1:]\n",
    "\n",
    "\n",
    "data_train = training_data[18000:].T\n",
    "Y_train = data_train[0]\n",
    "X_train = data_train[1:]\n",
    "'''X_train = X_train / 255.\n",
    "_,m_train = X_train.shape'''"
   ]
  },
  {
   "cell_type": "code",
   "execution_count": null,
   "metadata": {},
   "outputs": [],
   "source": [
    "X_train.shape"
   ]
  },
  {
   "cell_type": "code",
   "execution_count": null,
   "metadata": {},
   "outputs": [],
   "source": [
    "Y_train.shape"
   ]
  },
  {
   "cell_type": "code",
   "execution_count": null,
   "metadata": {},
   "outputs": [],
   "source": [
    "def sigmoid(x):\n",
    "        return 1/(np.exp(-x)+1) \n",
    "\n",
    "##Activation Derivative-Sigmoid Function\n",
    "def d_sigmoid(x):\n",
    "    #return (np.exp(-x))/((np.exp(-x)+1)**2)\n",
    "    return(np.multiply(sigmoid(x),1-sigmoid(x)))"
   ]
  },
  {
   "cell_type": "code",
   "execution_count": null,
   "metadata": {},
   "outputs": [],
   "source": [
    "def init_params():\n",
    "    first_layer = 784\n",
    "    hidden_layer = 30\n",
    "    final_layer = 10\n",
    "\n",
    "    limit = 1/(np.sqrt(784))\n",
    "    W1 = np.random.uniform(low = -limit,high=limit,size=(hidden_layer,first_layer))\n",
    "    b1 = np.random.uniform(low = -limit,high=limit,size=(hidden_layer,1))\n",
    "    \n",
    "    limit2 = 1/(np.sqrt(30))\n",
    "    W2 = np.random.uniform(low = -limit,high=limit,size=(final_layer,hidden_layer))\n",
    "    b2 = np.random.uniform(low = -limit,high=limit,size=(final_layer,1))\n",
    "    \n",
    "##Old intialization of weights.\n",
    "\n",
    "    #W1 = np.random.randn(30, 784) * 0.5\n",
    "    #b1 = np.random.randn(30,1) * 0.5\n",
    "    #W2 = np.random.randn(10, 30) * 0.5\n",
    "    #b2 = np.random.randn(10, 1) * 0.5\n",
    "    return W1, b1, W2, b2"
   ]
  },
  {
   "cell_type": "code",
   "execution_count": null,
   "metadata": {},
   "outputs": [],
   "source": [
    "def Convert_Y(Y):\n",
    "    ConvertY = np.zeros((Y.size, 10))\n",
    "    ConvertY[np.arange(Y.size), Y] = 1\n",
    "    ConvertY = ConvertY.T\n",
    "    return ConvertY"
   ]
  },
  {
   "cell_type": "code",
   "execution_count": null,
   "metadata": {},
   "outputs": [],
   "source": [
    "def Forward_Propogation(W1,W2,b1,b2,x):\n",
    "        \n",
    "    z1 = W1.dot(x) + b1     \n",
    "    #print(\"z1 shape\" ,z1.shape)    \n",
    "    a1 = sigmoid(z1) \n",
    "    #print(\"a1 shape\" ,a1.shape)\n",
    "    z2 = W2.dot(a1) + b2    \n",
    "    #print(\"z2 shape\" , z2.shape)\n",
    "    a2 = sigmoid(z2) \n",
    "    #print(\"a2 shape\" , a2.shape)\n",
    "    return z1,a1,z2,a2"
   ]
  },
  {
   "cell_type": "code",
   "execution_count": null,
   "metadata": {},
   "outputs": [],
   "source": [
    "def Backward_propogation(x,y,W2,W1,a2,a1,z2,z1):\n",
    "\n",
    "    Y = Convert_Y(y)\n",
    "    delta2 = 1/len(y) * (a2 - Y)* d_sigmoid(z2)\n",
    "    dW2 = (delta2.dot(a1.T))\n",
    "    db2 = np.sum(delta2)\n",
    "     \n",
    "    delta1 = W2.T.dot(delta2) * d_sigmoid(z1)\n",
    "    dW1 = (delta1.dot(x.T))\n",
    "    db1 = np.sum(delta1)\n",
    "    \n",
    "    return dW2, dW1, db2,db1\n"
   ]
  },
  {
   "cell_type": "code",
   "execution_count": null,
   "metadata": {},
   "outputs": [],
   "source": [
    "#MSE Loss Calculation\n",
    "def calc_loss(A2, Y):\n",
    "\n",
    "    Y = Convert_Y(Y)\n",
    "    error = (A2 - Y) * (A2-Y) \n",
    "    error = 1/Y.size * np.sum(error)\n",
    "    #print(error)\n",
    "    return error"
   ]
  },
  {
   "cell_type": "code",
   "execution_count": null,
   "metadata": {},
   "outputs": [],
   "source": [
    "def update_params(W1, b1, W2, b2, dW1, db1, dW2, db2, lr):\n",
    "    W1 = W1 - lr * dW1\n",
    "    b1 = b1 - lr * db1    \n",
    "    W2 = W2 - lr * dW2  \n",
    "    b2 = b2 - lr * db2    \n",
    "   # print(W1,b1,W2,b2)\n",
    "    return W1, b1, W2, b2"
   ]
  },
  {
   "cell_type": "code",
   "execution_count": null,
   "metadata": {},
   "outputs": [],
   "source": [
    "def Accuracy_Check(A2,Y):\n",
    "    return 100 * np.sum(np.argmax(A2,0) == Y)/Y.size"
   ]
  },
  {
   "cell_type": "code",
   "execution_count": null,
   "metadata": {},
   "outputs": [],
   "source": [
    "def train(iterations=50,learning=0.035,batch_size = 30):\n",
    "    \n",
    "    #print(X_train.shape)\n",
    "    epochs = iterations\n",
    "    lr = learning\n",
    "    batch = batch_size\n",
    "    loss = []\n",
    "    epoch_acc = []\n",
    "    \n",
    "\n",
    "    W1, b1, W2, b2 = init_params()\n",
    "    \n",
    "    batch_x = np.split(X_train,int(X_train.shape[1]/batch),axis=1)\n",
    "    batch_y = np.split(Y_train,int(X_train.shape[1]/batch),axis=0)\n",
    "    \n",
    "    for i in range(epochs):\n",
    "        loss_val = []\n",
    "        acc = []\n",
    "        for j in range(int(X_train.shape[1]/batch)):\n",
    "            x = batch_x[j]\n",
    "            y = batch_y[j]\n",
    "\n",
    "            Z1, A1, Z2, A2 = Forward_Propogation(W1, W2,b1, b2, x)\n",
    "            \n",
    "            dW2,dW1,db2,db1 = Backward_propogation(x,y,W2,W1,A2, A1, Z2,Z1)\n",
    "            W1, b1, W2, b2 = update_params(W1, b1, W2, b2, dW1, db1, dW2, db2, lr) \n",
    "           \n",
    "            loss_val.append(calc_loss(A2,y))\n",
    "            acc.append(Accuracy_Check(A2,y))\n",
    "\n",
    "        loss.append(np.average(loss_val))\n",
    "        epoch_acc.append(np.average(acc))\n",
    "\n",
    "        print(\"Epoch Completed: \" , i)\n",
    "        print(\"Accuracy after\",i,\" Epoch: \",np.average(acc))\n",
    "        print(\"Loss after \",i,\" Epoch: \",np.average(loss_val))\n",
    "\n",
    "    plt.figure(dpi = 125)\n",
    "    plt.plot(loss)\n",
    "    plt.xlabel(\"Epochs\")\n",
    "    plt.ylabel(\"Loss\")\n",
    "    \n",
    "    plt.figure(dpi = 125)\n",
    "    plt.plot(epoch_acc)\n",
    "    plt.xlabel(\"Epochs\")\n",
    "    plt.ylabel(\"Accuracy\")\n",
    "\n",
    "\n",
    "    return W1,b1,W2,b2\n",
    "        "
   ]
  },
  {
   "cell_type": "code",
   "execution_count": null,
   "metadata": {},
   "outputs": [],
   "source": [
    "#Training execution statement\n",
    "w1,b1,w2,b2 = train(50,0.03,12)"
   ]
  },
  {
   "cell_type": "code",
   "execution_count": null,
   "metadata": {},
   "outputs": [],
   "source": [
    "#Validation Accuracy\n",
    "def validation_prpediction(w1,b1,w2,b2,x,y):\n",
    "    Z1, A1, Z2, A2 = Forward_Propogation(w1,w2,b1, b2, x)\n",
    "    print(y)\n",
    "    print(\"Validation Accuracy: \",Accuracy_Check(A2,y))\n",
    "\n",
    "validation_prpediction(w1,b1,w2,b2,X_Val,Y_Val)"
   ]
  },
  {
   "cell_type": "code",
   "execution_count": null,
   "metadata": {},
   "outputs": [],
   "source": [
    "#Test Accuracy\n",
    "def Test_Prediction(w1,b1,w2,b2,x,y):\n",
    "    Z1, A1, Z2, A2 = Forward_Propogation(w1,w2,b1, b2, x)\n",
    "    print(y)\n",
    "    print(\"Test Accuracy: \",Accuracy_Check(A2,y))\n",
    "\n",
    "Test_Prediction(w1,b1,w2,b2,X_test,Y_test)"
   ]
  }
 ],
 "metadata": {
  "interpreter": {
   "hash": "f06bdd9591808c248588a3d65bfe48fbcb8843ecc0da7a165eb6a1211757627a"
  },
  "kernelspec": {
   "display_name": "Python 3.8.8 ('base')",
   "language": "python",
   "name": "python3"
  },
  "language_info": {
   "codemirror_mode": {
    "name": "ipython",
    "version": 3
   },
   "file_extension": ".py",
   "mimetype": "text/x-python",
   "name": "python",
   "nbconvert_exporter": "python",
   "pygments_lexer": "ipython3",
   "version": "3.8.8"
  },
  "orig_nbformat": 4
 },
 "nbformat": 4,
 "nbformat_minor": 2
}
