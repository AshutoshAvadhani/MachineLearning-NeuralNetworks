{
 "cells": [
  {
   "cell_type": "code",
   "execution_count": 118,
   "metadata": {},
   "outputs": [],
   "source": [
    "import torch\n",
    "import numpy as np\n",
    "import torchvision\n",
    "import matplotlib.pyplot as plt\n",
    "from torchvision import datasets\n",
    "from torchvision import transforms\n",
    "from torch import nn, optim\n",
    "from time import time"
   ]
  },
  {
   "cell_type": "code",
   "execution_count": 119,
   "metadata": {},
   "outputs": [],
   "source": [
    "#import data from MNIST using pytorch\n",
    "transform = transforms.Compose([\n",
    "    transforms.ToTensor(),\n",
    "    transforms.Normalize((0.5,), (0.5,)),\n",
    "])\n",
    "main_data_set = datasets.MNIST('~/.pytorch/MNIST/',download=True,train=True,transform = transform)\n",
    "# test_data = datasets.MNIST('~/.pytorch/MNIST/',download=True,train=False)\n"
   ]
  },
  {
   "cell_type": "code",
   "execution_count": 120,
   "metadata": {},
   "outputs": [
    {
     "name": "stdout",
     "output_type": "stream",
     "text": [
      "60000\n"
     ]
    }
   ],
   "source": [
    "print(len(main_data_set))"
   ]
  },
  {
   "cell_type": "code",
   "execution_count": 121,
   "metadata": {},
   "outputs": [],
   "source": [
    "#train Test Validation Split\n",
    "train_size = int(0.7 * len(main_data_set))\n",
    "temp_size = len(main_data_set) - train_size\n",
    "train_dataset, temp_dataset = torch.utils.data.random_split(main_data_set, [train_size, temp_size])\n",
    "validation_size = int(0.5 * len(temp_dataset))\n",
    "test_size = len(temp_dataset) - validation_size\n",
    "validation_dataset, test_dataset = torch.utils.data.random_split(temp_dataset, [validation_size, test_size])"
   ]
  },
  {
   "cell_type": "code",
   "execution_count": 122,
   "metadata": {},
   "outputs": [
    {
     "name": "stdout",
     "output_type": "stream",
     "text": [
      "42000\n",
      "9000\n",
      "9000\n"
     ]
    }
   ],
   "source": [
    "print(len(train_dataset))\n",
    "print(len(validation_dataset))\n",
    "print(len(test_dataset))"
   ]
  },
  {
   "cell_type": "code",
   "execution_count": 123,
   "metadata": {},
   "outputs": [],
   "source": [
    "#Loader Creation\n",
    "\n",
    "trainloader = torch.utils.data.DataLoader(train_dataset,batch_size =11,shuffle=True)\n",
    "validationloader = torch.utils.data.DataLoader(validation_dataset,batch_size = 11,shuffle=True)\n",
    "Testloader = torch.utils.data.DataLoader(test_dataset,batch_size=11,shuffle = True)"
   ]
  },
  {
   "cell_type": "code",
   "execution_count": 124,
   "metadata": {},
   "outputs": [
    {
     "name": "stdout",
     "output_type": "stream",
     "text": [
      "torch.Size([11, 1, 28, 28])\n",
      "torch.Size([11])\n"
     ]
    }
   ],
   "source": [
    "#validation of Split dataset\n",
    "data_iter = iter(trainloader)\n",
    "images,labels = data_iter.next()\n",
    "print(images.shape)\n",
    "print(labels.shape)"
   ]
  },
  {
   "cell_type": "code",
   "execution_count": 125,
   "metadata": {},
   "outputs": [
    {
     "data": {
      "image/png": "[encoded data removed]",
      "text/plain": [
       "<Figure size 432x288 with 1 Axes>"
      ]
     },
     "metadata": {
      "needs_background": "light"
     },
     "output_type": "display_data"
    }
   ],
   "source": [
    "plt.imshow(images[0].numpy().squeeze(), cmap='gray_r');"
   ]
  },
  {
   "cell_type": "code",
   "execution_count": 126,
   "metadata": {},
   "outputs": [
    {
     "data": {
      "image/png": "[encoded data removed]",
      "text/plain": [
       "<Figure size 432x288 with 10 Axes>"
      ]
     },
     "metadata": {
      "needs_background": "light"
     },
     "output_type": "display_data"
    }
   ],
   "source": [
    "figure = plt.figure()\n",
    "num_of_images = 10\n",
    "for index in range(1, num_of_images + 1):\n",
    "    plt.subplot(6, 10, index)\n",
    "    plt.axis('off')\n",
    "    plt.imshow(images[index].numpy().squeeze(), cmap='gray_r')"
   ]
  },
  {
   "cell_type": "code",
   "execution_count": 127,
   "metadata": {},
   "outputs": [
    {
     "name": "stdout",
     "output_type": "stream",
     "text": [
      "Sequential(\n",
      "  (0): Linear(in_features=784, out_features=30, bias=True)\n",
      "  (1): Sigmoid()\n",
      "  (2): Linear(in_features=30, out_features=10, bias=True)\n",
      "  (3): Sigmoid()\n",
      ")\n"
     ]
    }
   ],
   "source": [
    "#Define Model\n",
    "input_size = 28*28\n",
    "internal_layer_size = 30\n",
    "output_size = 10\n",
    "\n",
    "model = nn.Sequential(nn.Linear(input_size,internal_layer_size),nn.Sigmoid(),nn.Linear(internal_layer_size,output_size),nn.Sigmoid())\n",
    "print(model)\n"
   ]
  },
  {
   "cell_type": "markdown",
   "metadata": {},
   "source": [
    "# MSE LOSS"
   ]
  },
  {
   "cell_type": "code",
   "execution_count": 128,
   "metadata": {},
   "outputs": [
    {
     "name": "stdout",
     "output_type": "stream",
     "text": [
      "tensor(0.2281, grad_fn=<MseLossBackward0>)\n"
     ]
    }
   ],
   "source": [
    "# Loss Function \n",
    "criterion_MSE = nn.MSELoss()\n",
    "images, labels = next(iter(trainloader))\n",
    "images = images.view(images.shape[0], -1)\n",
    "logps = model(images) #log probabilities\n",
    "loss = criterion_MSE(logps, torch.nn.functional.one_hot(labels,num_classes=10).to(torch.float)) #calculate the MSE loss\n",
    "#print(torch.nn.functional.one_hot(labels).to(torch.float))\n",
    "print(loss)"
   ]
  },
  {
   "cell_type": "code",
   "execution_count": 129,
   "metadata": {},
   "outputs": [
    {
     "name": "stdout",
     "output_type": "stream",
     "text": [
      "Before backward pass: \n",
      " None\n",
      "After backward pass: \n",
      " tensor([[-0.0002, -0.0002, -0.0002,  ..., -0.0002, -0.0002, -0.0002],\n",
      "        [-0.0016, -0.0016, -0.0016,  ..., -0.0016, -0.0016, -0.0016],\n",
      "        [-0.0016, -0.0016, -0.0016,  ..., -0.0016, -0.0016, -0.0016],\n",
      "        ...,\n",
      "        [ 0.0028,  0.0028,  0.0028,  ...,  0.0028,  0.0028,  0.0028],\n",
      "        [ 0.0004,  0.0004,  0.0004,  ...,  0.0004,  0.0004,  0.0004],\n",
      "        [-0.0004, -0.0004, -0.0004,  ..., -0.0004, -0.0004, -0.0004]])\n"
     ]
    }
   ],
   "source": [
    "#loss function validation\n",
    "print('Before backward pass: \\n', model[0].weight.grad)\n",
    "loss.backward()\n",
    "print('After backward pass: \\n', model[0].weight.grad)"
   ]
  },
  {
   "cell_type": "code",
   "execution_count": 130,
   "metadata": {},
   "outputs": [
    {
     "name": "stdout",
     "output_type": "stream",
     "text": [
      "Epoch 0 - Training loss: 0.0885181874036789\n",
      "Epoch 1 - Training loss: 0.08441909402608871\n",
      "Epoch 2 - Training loss: 0.08487170189619064\n",
      "Epoch 3 - Training loss: 0.08864355087280273\n",
      "Epoch 4 - Training loss: 0.042106322944164276\n",
      "Epoch 5 - Training loss: 0.04920416325330734\n",
      "Epoch 6 - Training loss: 0.06486959010362625\n",
      "Epoch 7 - Training loss: 0.048369478434324265\n",
      "Epoch 8 - Training loss: 0.049647461622953415\n",
      "Epoch 9 - Training loss: 0.03962340205907822\n",
      "Epoch 10 - Training loss: 0.06736971437931061\n",
      "Epoch 11 - Training loss: 0.028125038370490074\n",
      "Epoch 12 - Training loss: 0.03456563502550125\n",
      "Epoch 13 - Training loss: 0.03965029492974281\n",
      "Epoch 14 - Training loss: 0.04043184965848923\n",
      "Epoch 15 - Training loss: 0.047869496047496796\n",
      "Epoch 16 - Training loss: 0.006566725671291351\n",
      "Epoch 17 - Training loss: 0.10853858292102814\n",
      "Epoch 18 - Training loss: 0.005426289048045874\n",
      "Epoch 19 - Training loss: 0.0367211177945137\n",
      "\n",
      "Training Time (in minutes) = 2.395744800567627\n"
     ]
    }
   ],
   "source": [
    "#training the model\n",
    "\n",
    "optimizer = optim.SGD(model.parameters(),lr=0.003,momentum=0.9)\n",
    "time0 = time()\n",
    "epochs = 20 \n",
    "\n",
    "for i in range(epochs):\n",
    "    running_loss = 0\n",
    "    for images,labels in trainloader:\n",
    "        images = images.view(images.shape[0],-1)     \n",
    "        optimizer.zero_grad()\n",
    "        \n",
    "        output = model(images)\n",
    "        loss= criterion_MSE(output,torch.nn.functional.one_hot(labels,num_classes=10).to(torch.float))\n",
    "        loss.backward()\n",
    "        optimizer.step()\n",
    "        running_loss += loss.item()\n",
    "    else:\n",
    "        print(\"Epoch {} - Training loss: {}\".format(i, loss.item()))  \n",
    "print(\"\\nTraining Time (in minutes) =\",(time()-time0)/60)\n"
   ]
  },
  {
   "cell_type": "code",
   "execution_count": 131,
   "metadata": {},
   "outputs": [
    {
     "name": "stdout",
     "output_type": "stream",
     "text": [
      "Number Of Images Tested = 9000\n",
      "\n",
      "Validation Model Accuracy with MSE Loss function = 89.54444444444445\n"
     ]
    }
   ],
   "source": [
    "#validation Check\n",
    "correct_count, all_count = 0, 0\n",
    "for images,labels in validationloader:\n",
    "  for i in range(len(labels)):\n",
    "    img = images[i].view(1, 784)\n",
    "    with torch.no_grad():\n",
    "        logps = model(img)\n",
    "    ps = torch.exp(logps)\n",
    "    probab = list(ps.numpy()[0])\n",
    "    pred_label = probab.index(max(probab))\n",
    "    true_label = labels.numpy()[i]\n",
    "    if(true_label == pred_label):\n",
    "      correct_count += 1\n",
    "    all_count += 1\n",
    "\n",
    "print(\"Number Of Images Tested =\", all_count)\n",
    "print(\"\\nValidation Model Accuracy with MSE Loss function =\", 100 * (correct_count/all_count))"
   ]
  },
  {
   "cell_type": "code",
   "execution_count": 132,
   "metadata": {},
   "outputs": [
    {
     "name": "stdout",
     "output_type": "stream",
     "text": [
      "Number Of Images Tested = 9000\n",
      "\n",
      "Test Model Accuracy with MSE Loss function= 89.57777777777778\n"
     ]
    }
   ],
   "source": [
    "#Test Check\n",
    "correct_count, all_count = 0, 0\n",
    "for images,labels in Testloader:\n",
    "  for i in range(len(labels)):\n",
    "    img = images[i].view(1, 784)\n",
    "    with torch.no_grad():\n",
    "        logps = model(img)\n",
    "    ps = torch.exp(logps)\n",
    "    probab = list(ps.numpy()[0])\n",
    "    pred_label = probab.index(max(probab))\n",
    "    true_label = labels.numpy()[i]\n",
    "    #print(pred_label,true_label)\n",
    "    if(true_label == pred_label):\n",
    "      correct_count += 1\n",
    "    all_count += 1\n",
    "\n",
    "print(\"Number Of Images Tested =\", all_count)\n",
    "print(\"\\nTest Model Accuracy with MSE Loss function=\", 100 * (correct_count/all_count))"
   ]
  },
  {
   "cell_type": "markdown",
   "metadata": {},
   "source": [
    "# CrossEntropyLoss"
   ]
  },
  {
   "cell_type": "code",
   "execution_count": 133,
   "metadata": {},
   "outputs": [
    {
     "name": "stdout",
     "output_type": "stream",
     "text": [
      "tensor(1.6959, grad_fn=<DivBackward1>)\n"
     ]
    }
   ],
   "source": [
    "#criterion_CrossEntropy Loss creation\n",
    "criterion_CrossEntropy = nn.CrossEntropyLoss()\n",
    "images, labels = next(iter(trainloader))\n",
    "images = images.view(images.shape[0], -1)\n",
    "logps = model(images) #log probabilities\n",
    "loss = criterion_CrossEntropy(logps, torch.nn.functional.one_hot(labels,num_classes=10).to(torch.float)) #calculate the NLL loss\n",
    "#print(torch.nn.functional.one_hot(labels).to(torch.float))\n",
    "print(loss)"
   ]
  },
  {
   "cell_type": "code",
   "execution_count": 134,
   "metadata": {},
   "outputs": [
    {
     "name": "stdout",
     "output_type": "stream",
     "text": [
      "Before backward pass: \n",
      " tensor([[ 1.3571e-03,  1.3571e-03,  1.3571e-03,  ...,  1.3571e-03,\n",
      "          1.3571e-03,  1.3571e-03],\n",
      "        [ 3.3887e-03,  3.3887e-03,  3.3887e-03,  ...,  3.3887e-03,\n",
      "          3.3887e-03,  3.3887e-03],\n",
      "        [ 3.9076e-03,  3.9076e-03,  3.9076e-03,  ...,  3.9076e-03,\n",
      "          3.9076e-03,  3.9076e-03],\n",
      "        ...,\n",
      "        [-5.2860e-06, -5.2860e-06, -5.2860e-06,  ..., -5.2860e-06,\n",
      "         -5.2860e-06, -5.2860e-06],\n",
      "        [-1.9892e-03, -1.9892e-03, -1.9892e-03,  ..., -1.9892e-03,\n",
      "         -1.9892e-03, -1.9892e-03],\n",
      "        [ 1.3975e-04,  1.3975e-04,  1.3975e-04,  ...,  1.3975e-04,\n",
      "          1.3975e-04,  1.3975e-04]])\n",
      "After backward pass: \n",
      " tensor([[-5.7197e-05, -5.7197e-05, -5.7197e-05,  ..., -5.7197e-05,\n",
      "         -5.7197e-05, -5.7197e-05],\n",
      "        [ 7.0909e-03,  7.0909e-03,  7.0909e-03,  ...,  7.0909e-03,\n",
      "          7.0909e-03,  7.0909e-03],\n",
      "        [ 8.6884e-03,  8.6884e-03,  8.6884e-03,  ...,  8.6884e-03,\n",
      "          8.6884e-03,  8.6884e-03],\n",
      "        ...,\n",
      "        [-1.1020e-04, -1.1020e-04, -1.1020e-04,  ..., -1.1020e-04,\n",
      "         -1.1020e-04, -1.1020e-04],\n",
      "        [-9.9236e-04, -9.9236e-04, -9.9236e-04,  ..., -9.9236e-04,\n",
      "         -9.9236e-04, -9.9236e-04],\n",
      "        [-1.5918e-04, -1.5918e-04, -1.5918e-04,  ..., -1.5918e-04,\n",
      "         -1.5918e-04, -1.5918e-04]])\n"
     ]
    }
   ],
   "source": [
    "#Loss validation\n",
    "print('Before backward pass: \\n', model[0].weight.grad)\n",
    "loss.backward()\n",
    "print('After backward pass: \\n', model[0].weight.grad)"
   ]
  },
  {
   "cell_type": "code",
   "execution_count": 135,
   "metadata": {},
   "outputs": [
    {
     "name": "stdout",
     "output_type": "stream",
     "text": [
      "Epoch 0 - Training loss: 1.5345172882080078\n",
      "Epoch 1 - Training loss: 1.509224772453308\n",
      "Epoch 2 - Training loss: 1.6433229446411133\n",
      "Epoch 3 - Training loss: 1.4898617267608643\n",
      "Epoch 4 - Training loss: 1.5026359558105469\n",
      "Epoch 5 - Training loss: 1.4859999418258667\n",
      "Epoch 6 - Training loss: 1.482060194015503\n",
      "Epoch 7 - Training loss: 1.5025275945663452\n",
      "Epoch 8 - Training loss: 1.5412571430206299\n",
      "Epoch 9 - Training loss: 1.4823377132415771\n",
      "Epoch 10 - Training loss: 1.7264370918273926\n",
      "Epoch 11 - Training loss: 1.8046472072601318\n",
      "Epoch 12 - Training loss: 1.9749956130981445\n",
      "Epoch 13 - Training loss: 1.4718983173370361\n",
      "Epoch 14 - Training loss: 2.175966262817383\n",
      "Epoch 15 - Training loss: 1.9189342260360718\n",
      "Epoch 16 - Training loss: 1.475761890411377\n",
      "Epoch 17 - Training loss: 1.4820291996002197\n",
      "Epoch 18 - Training loss: 1.5221927165985107\n",
      "Epoch 19 - Training loss: 1.4860000610351562\n",
      "\n",
      "Training Time (in minutes) = 2.684967033068339\n"
     ]
    }
   ],
   "source": [
    "#Training data on Cross Entropy Loss\n",
    "optimizer = optim.SGD(model.parameters(),lr=0.003,momentum=0.9)\n",
    "time0 = time()\n",
    "epochs = 20 \n",
    "\n",
    "for i in range(epochs):\n",
    "    running_loss = 0\n",
    "    for images,labels in trainloader:\n",
    "        images = images.view(images.shape[0],-1)     \n",
    "        optimizer.zero_grad()\n",
    "        \n",
    "        output = model(images)\n",
    "        loss= criterion_CrossEntropy(output,torch.nn.functional.one_hot(labels,num_classes=10).to(torch.float))\n",
    "        loss.backward()\n",
    "        optimizer.step()\n",
    "        running_loss += loss.item()\n",
    "    else:\n",
    "        print(\"Epoch {} - Training loss: {}\".format(i, loss.item()))  \n",
    "print(\"\\nTraining Time (in minutes) =\",(time()-time0)/60)\n"
   ]
  },
  {
   "cell_type": "code",
   "execution_count": 136,
   "metadata": {},
   "outputs": [
    {
     "name": "stdout",
     "output_type": "stream",
     "text": [
      "Number Of Images Tested = 9000\n",
      "\n",
      "Validation Model Accuracy with Cross Entropy Loss= 92.4\n"
     ]
    }
   ],
   "source": [
    "#Validation Check\n",
    "correct_count, all_count = 0, 0\n",
    "for images,labels in validationloader:\n",
    "  for i in range(len(labels)):\n",
    "    img = images[i].view(1, 784)\n",
    "    with torch.no_grad():\n",
    "        logps = model(img)  \n",
    "    ps = torch.exp(logps)\n",
    "    probab = list(ps.numpy()[0])\n",
    "    pred_label = probab.index(max(probab))\n",
    "    true_label = labels.numpy()[i]\n",
    "    if(true_label == pred_label):\n",
    "      correct_count += 1\n",
    "    all_count += 1\n",
    "\n",
    "print(\"Number Of Images Tested =\", all_count)\n",
    "print(\"\\nValidation Model Accuracy with Cross Entropy Loss=\", 100 * (correct_count/all_count))"
   ]
  },
  {
   "cell_type": "code",
   "execution_count": 137,
   "metadata": {},
   "outputs": [
    {
     "name": "stdout",
     "output_type": "stream",
     "text": [
      "Number Of Images Tested = 9000\n",
      "\\Test Model Accuracy with Cross Entropy Loss = 92.5111111111111\n"
     ]
    }
   ],
   "source": [
    "#Test Check\n",
    "correct_count, all_count = 0, 0\n",
    "for images,labels in Testloader:\n",
    "  for i in range(len(labels)):\n",
    "    img = images[i].view(1, 784)\n",
    "    with torch.no_grad():\n",
    "        logps = model(img)\n",
    "\n",
    "    \n",
    "    ps = torch.exp(logps)\n",
    "    probab = list(ps.numpy()[0])\n",
    "    pred_label = probab.index(max(probab))\n",
    "    true_label = labels.numpy()[i]\n",
    "    #print(pred_label,true_label)\n",
    "    if(true_label == pred_label):\n",
    "      correct_count += 1\n",
    "    all_count += 1\n",
    "\n",
    "print(\"Number Of Images Tested =\", all_count)\n",
    "print(\"\\Test Model Accuracy with Cross Entropy Loss =\", 100 * (correct_count/all_count))"
   ]
  }
 ],
 "metadata": {
  "interpreter": {
   "hash": "f06bdd9591808c248588a3d65bfe48fbcb8843ecc0da7a165eb6a1211757627a"
  },
  "kernelspec": {
   "display_name": "Python 3.8.8 ('base')",
   "language": "python",
   "name": "python3"
  },
  "language_info": {
   "codemirror_mode": {
    "name": "ipython",
    "version": 3
   },
   "file_extension": ".py",
   "mimetype": "text/x-python",
   "name": "python",
   "nbconvert_exporter": "python",
   "pygments_lexer": "ipython3",
   "version": "3.8.8"
  },
  "orig_nbformat": 4
 },
 "nbformat": 4,
 "nbformat_minor": 2
}
